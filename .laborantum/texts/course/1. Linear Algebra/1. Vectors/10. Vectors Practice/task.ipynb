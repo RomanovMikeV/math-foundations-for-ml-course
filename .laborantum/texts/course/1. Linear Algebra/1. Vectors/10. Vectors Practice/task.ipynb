{
    "cells": [
        {
            "cell_type": "markdown",
            "metadata": {},
            "source": [
                "# Vectors Practice"
            ]
        },
        {
            "cell_type": "markdown",
            "metadata": {},
            "source": [
                "In this chapter we will work with vectors and code Gramm-Schmidt Orthonormalization Algorithm"
            ]
        },
        {
            "cell_type": "code",
            "execution_count": 1,
            "metadata": {},
            "outputs": [],
            "source": [
                "import numpy as np\n",
                "import matplotlib.pyplot as plt\n",
                "import lovely_numpy as ln\n",
                "import json_tricks\n",
                "\n"
            ]
        },
        {
            "cell_type": "code",
            "execution_count": 2,
            "metadata": {},
            "outputs": [
                {
                    "ename": "FileNotFoundError",
                    "evalue": "[Errno 2] No such file or directory: '.inputs.json'",
                    "output_type": "error",
                    "traceback": [
                        "\u001b[0;31m---------------------------------------------------------------------------\u001b[0m",
                        "\u001b[0;31mFileNotFoundError\u001b[0m                         Traceback (most recent call last)",
                        "Cell \u001b[0;32mIn[2], line 1\u001b[0m\n\u001b[0;32m----> 1\u001b[0m inputs \u001b[38;5;241m=\u001b[39m json_tricks\u001b[38;5;241m.\u001b[39mload(\u001b[38;5;124m'\u001b[39m\u001b[38;5;124m.inputs.json\u001b[39m\u001b[38;5;124m'\u001b[39m)\n\u001b[1;32m      2\u001b[0m answers \u001b[38;5;241m=\u001b[39m {}\n",
                        "File \u001b[0;32m~/anaconda3/lib/python3.12/site-packages/json_tricks/nonp.py:284\u001b[0m, in \u001b[0;36mload\u001b[0;34m(fp, preserve_order, ignore_comments, decompression, obj_pairs_hooks, extra_obj_pairs_hooks, cls_lookup_map, allow_duplicates, conv_str_byte, properties, **jsonkwargs)\u001b[0m\n\u001b[1;32m    282\u001b[0m \topen_binary \u001b[38;5;241m=\u001b[39m \u001b[38;5;28mbool\u001b[39m(decompression)\n\u001b[1;32m    283\u001b[0m \u001b[38;5;28;01melse\u001b[39;00m:\n\u001b[0;32m--> 284\u001b[0m \t\u001b[38;5;28;01mwith\u001b[39;00m \u001b[38;5;28mopen\u001b[39m(fp, \u001b[38;5;124m'\u001b[39m\u001b[38;5;124mrb\u001b[39m\u001b[38;5;124m'\u001b[39m) \u001b[38;5;28;01mas\u001b[39;00m fh:\n\u001b[1;32m    285\u001b[0m \t\t\u001b[38;5;66;03m# This attempts to detect gzip mode; gzip should always\u001b[39;00m\n\u001b[1;32m    286\u001b[0m \t\t\u001b[38;5;66;03m# have this header, and text json can't have it.\u001b[39;00m\n\u001b[1;32m    287\u001b[0m \t\topen_binary \u001b[38;5;241m=\u001b[39m (fh\u001b[38;5;241m.\u001b[39mread(\u001b[38;5;241m2\u001b[39m) \u001b[38;5;241m==\u001b[39m \u001b[38;5;124mb\u001b[39m\u001b[38;5;124m'\u001b[39m\u001b[38;5;130;01m\\x1f\u001b[39;00m\u001b[38;5;130;01m\\x8b\u001b[39;00m\u001b[38;5;124m'\u001b[39m)\n\u001b[1;32m    288\u001b[0m \u001b[38;5;28;01mwith\u001b[39;00m \u001b[38;5;28mopen\u001b[39m(fp, \u001b[38;5;124m'\u001b[39m\u001b[38;5;124mrb\u001b[39m\u001b[38;5;124m'\u001b[39m \u001b[38;5;28;01mif\u001b[39;00m open_binary \u001b[38;5;28;01melse\u001b[39;00m \u001b[38;5;124m'\u001b[39m\u001b[38;5;124mr\u001b[39m\u001b[38;5;124m'\u001b[39m) \u001b[38;5;28;01mas\u001b[39;00m fh:\n",
                        "\u001b[0;31mFileNotFoundError\u001b[0m: [Errno 2] No such file or directory: '.inputs.json'"
                    ]
                }
            ],
            "source": [
                "inputs = json_tricks.load('.inputs.json')\n",
                "answers = {}"
            ]
        },
        {
            "cell_type": "markdown",
            "metadata": {},
            "source": [
                "In your input you have arrys of shape $N \\times 2$, which means that you have 2 vectors both having N coordinates"
            ]
        },
        {
            "cell_type": "code",
            "execution_count": null,
            "metadata": {},
            "outputs": [],
            "source": [
                "for one_input in inputs:\n",
                "    print(ln.lovely(one_input['X']))"
            ]
        },
        {
            "cell_type": "markdown",
            "metadata": {},
            "source": [
                "# Task 1. Vector lenghts\n",
                "\n",
                "- Write a function that calculates vector lengths, answer should return array of shape $2$\n",
                "- Apply this function to all the inputs"
            ]
        },
        {
            "cell_type": "code",
            "execution_count": null,
            "metadata": {},
            "outputs": [],
            "source": [
                "def get_length(X):\n",
                "    res = None\n",
                "    ## YOUR CODE HERE\n",
                "    return res"
            ]
        },
        {
            "cell_type": "code",
            "execution_count": null,
            "metadata": {},
            "outputs": [],
            "source": [
                "answers['lengths'] = [\n",
                "    get_length(**inp) for inp in inputs\n",
                "]"
            ]
        },
        {
            "cell_type": "markdown",
            "metadata": {},
            "source": [
                "# Task 2. Vector directions\n",
                "\n",
                "- Write a function that calculates vector directions. Result should be of the same shape as the original array X\n",
                "- Use $10^{-8}$ addition in division to avoid division by zero\n",
                "- Apply this function to all arrays in the inputs"
            ]
        },
        {
            "cell_type": "code",
            "execution_count": null,
            "metadata": {},
            "outputs": [],
            "source": [
                "def get_directions(X):\n",
                "    res = None\n",
                "    ## YOUR CODE HERE\n",
                "    return res"
            ]
        },
        {
            "cell_type": "code",
            "execution_count": null,
            "metadata": {},
            "outputs": [],
            "source": [
                "answers['directions'] = [\n",
                "    get_directions(**inp) for inp in inputs\n",
                "]"
            ]
        },
        {
            "cell_type": "markdown",
            "metadata": {},
            "source": [
                "# Step 3. Visualization\n",
                "\n",
                "We will visualize vectors and directions using `matplotlib` "
            ]
        },
        {
            "cell_type": "code",
            "execution_count": null,
            "metadata": {},
            "outputs": [],
            "source": [
                "import numpy as np\n",
                "import matplotlib.pyplot as plt\n",
                "\n",
                "plt.figure(figsize=(10, 10))\n",
                "ax = plt.gca()\n",
                "X = inputs[0]['X']\n",
                "vecs = np.concatenate([np.zeros_like(X), X.T], axis=1)\n",
                "X, Y, U, V = zip(*vecs)\n",
                "ax.quiver(X, Y, U, V, angles='xy', scale_units='xy', scale=1, color = 'red')\n",
                "\n",
                "X = answers['directions'][0] * 2\n",
                "norms = np.concatenate([np.zeros_like(X), X.T], axis=1)\n",
                "X, Y, U, V = zip(*norms)\n",
                "ax.quiver(X, Y, U, V, angles='xy', scale_units='xy', scale=1, color = 'blue')\n",
                "ax.set_xlim([-10, 10])\n",
                "ax.set_ylim([-10, 10])\n",
                "plt.draw()\n",
                "plt.grid()\n",
                "plt.legend(['original', 'normalized'])\n",
                "plt.show()\n"
            ]
        },
        {
            "cell_type": "markdown",
            "metadata": {},
            "source": [
                "# Task 4. Scalar Product\n",
                "\n",
                "Write a function that calculates\n",
                "- cosine distance between the vectors\n",
                "- use $10^{-8}$ additional constant in the denominator for the sake of numerical stability"
            ]
        },
        {
            "cell_type": "code",
            "execution_count": null,
            "metadata": {},
            "outputs": [],
            "source": [
                "def get_cosine(X):\n",
                "    res = None\n",
                "    ## YOUR CODE HERE\n",
                "    return res"
            ]
        },
        {
            "cell_type": "code",
            "execution_count": null,
            "metadata": {},
            "outputs": [],
            "source": [
                "answers['cosine'] = [\n",
                "    get_cosine(**inp) for inp in inputs\n",
                "]"
            ]
        },
        {
            "cell_type": "markdown",
            "metadata": {},
            "source": [
                "# Task 5. Orthonormalization\n",
                "\n",
                "Create a pair of orthonormal vectors\n",
                "- Take the first vector and normalize it\n",
                "- Take the second vector, remove the collinear component to the first one\n",
                "- Normalize it"
            ]
        },
        {
            "cell_type": "code",
            "execution_count": null,
            "metadata": {},
            "outputs": [],
            "source": [
                "def get_orthonormal(X):\n",
                "    res = X.copy().astype('float32')\n",
                "    ## YOUR CODE HERE\n",
                "\n",
                "    return res"
            ]
        },
        {
            "cell_type": "code",
            "execution_count": null,
            "metadata": {},
            "outputs": [],
            "source": [
                "answers['orthonormal'] = [\n",
                "    get_orthonormal(**inp) for inp in inputs\n",
                "]"
            ]
        },
        {
            "cell_type": "markdown",
            "metadata": {},
            "source": [
                "# 6. Visualization"
            ]
        },
        {
            "cell_type": "code",
            "execution_count": null,
            "metadata": {},
            "outputs": [],
            "source": [
                "import numpy as np\n",
                "import matplotlib.pyplot as plt\n",
                "\n",
                "plt.figure(figsize=(10, 10))\n",
                "ax = plt.gca()\n",
                "X = inputs[0]['X']\n",
                "print(X)\n",
                "vecs = np.concatenate([np.zeros_like(X), X.T], axis=1)\n",
                "X, Y, U, V = zip(*vecs)\n",
                "ax.quiver(X, Y, U, V, angles='xy', scale_units='xy', scale=1, color = 'red')\n",
                "\n",
                "X = answers['orthonormal'][0] * 2\n",
                "print(X)\n",
                "norms = np.concatenate([np.zeros_like(X), X.T], axis=1)\n",
                "X, Y, U, V = zip(*norms)\n",
                "ax.quiver(X, Y, U, V, angles='xy', scale_units='xy', scale=1, color = 'blue')\n",
                "ax.set_xlim([-10, 10])\n",
                "ax.set_ylim([-10, 10])\n",
                "plt.draw()\n",
                "plt.grid()\n",
                "plt.legend(['original', 'normalized'])\n",
                "plt.show()\n"
            ]
        },
        {
            "cell_type": "markdown",
            "metadata": {},
            "source": [
                "# 7. Saving the answer"
            ]
        },
        {
            "cell_type": "code",
            "execution_count": null,
            "metadata": {},
            "outputs": [],
            "source": [
                "json_tricks.dump(answers, '.answer.json')"
            ]
        }
    ],
    "metadata": {
        "kernelspec": {
            "display_name": "base",
            "language": "python",
            "name": "python3"
        },
        "language_info": {
            "codemirror_mode": {
                "name": "ipython",
                "version": 3
            },
            "file_extension": ".py",
            "mimetype": "text/x-python",
            "name": "python",
            "nbconvert_exporter": "python",
            "pygments_lexer": "ipython3",
            "version": "3.12.4"
        }
    },
    "nbformat": 4,
    "nbformat_minor": 2
}
